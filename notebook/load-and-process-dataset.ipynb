{
 "cells": [
  {
   "cell_type": "markdown",
   "id": "registered-nutrition",
   "metadata": {},
   "source": [
    "# Self interest transactions\n",
    "\n",
    "This content is part of the following scientific paper: https://people.mpi-sws.org/~johnme/pdf/messias_imc2021_btc_tx_ordering.pdf\n",
    "```\n",
    "Selfish & Opaque Transaction Ordering in the Bitcoin Blockchain: The Case for Chain Neutrality\n",
    "Johnnatan Messias, Mohamed Alzayat, Balakrishnan Chandrasekaran, Krishna P. Gummadi, Patrick Loiseau, and Alan Mislove.\n",
    "In Proceedings of the ACM SIGCOMM Internet Measurement Conference (IMC 2021). Virtual Event. November, 2021.\n",
    "```"
   ]
  },
  {
   "cell_type": "markdown",
   "id": "historic-infection",
   "metadata": {},
   "source": [
    "## Import useful functions"
   ]
  },
  {
   "cell_type": "code",
   "execution_count": 1,
   "id": "spectacular-expansion",
   "metadata": {},
   "outputs": [],
   "source": [
    "from utils_plot import *\n",
    "import pandas as pd\n",
    "from tqdm.notebook import tqdm\n",
    "import gzip\n",
    "from ast import literal_eval\n",
    "import numpy as np\n",
    "from scipy.stats import binom\n",
    "import itertools\n",
    "pd.set_option('max_colwidth', 10000)"
   ]
  },
  {
   "cell_type": "code",
   "execution_count": 2,
   "id": "c132c8ad-bb79-4b51-be89-7ead5e47d6bd",
   "metadata": {},
   "outputs": [],
   "source": [
    "from multiprocessing import cpu_count\n",
    "from concurrent.futures import ProcessPoolExecutor, ThreadPoolExecutor"
   ]
  },
  {
   "cell_type": "code",
   "execution_count": 3,
   "id": "6d000888-b558-4259-8d65-f69d09576050",
   "metadata": {},
   "outputs": [],
   "source": [
    "tqdm.pandas()"
   ]
  },
  {
   "cell_type": "code",
   "execution_count": 4,
   "id": "confidential-virginia",
   "metadata": {},
   "outputs": [],
   "source": [
    "# from common import *"
   ]
  },
  {
   "cell_type": "code",
   "execution_count": 5,
   "id": "floating-namibia",
   "metadata": {},
   "outputs": [],
   "source": [
    "percentiles = [.01, .05, .1, .2, .25, .50, .75, .8, .9, .95, .99]"
   ]
  },
  {
   "cell_type": "code",
   "execution_count": 6,
   "id": "e5c8d170-1a56-4c58-ae44-58305c4a5958",
   "metadata": {},
   "outputs": [],
   "source": [
    "from multiprocessing import cpu_count\n",
    "from concurrent.futures import ProcessPoolExecutor"
   ]
  },
  {
   "cell_type": "code",
   "execution_count": 7,
   "id": "legendary-refrigerator",
   "metadata": {},
   "outputs": [],
   "source": [
    "def load_transactions(n_cores=5):\n",
    "    dfs = list()\n",
    "    filenames = ['data-2020/transactions/' + filename for filename in os.listdir('data-2020/transactions/') if filename.endswith('.csv.gz')]\n",
    "    with ProcessPoolExecutor(n_cores) as p:\n",
    "        dfs = list(tqdm(p.map(load_transaction, filenames), desc='Loading files', total=len(filenames)))\n",
    "    print('Concating dataframes')\n",
    "    return pd.concat(dfs)\n",
    "\n",
    "def load_transaction(filename):\n",
    "    df = read_file(filename)\n",
    "    df['spends_from'] = df['spends_from'].apply(literal_eval)\n",
    "    df['vin_addresses'] = df['vin_addresses'].apply(literal_eval)\n",
    "    df['vout_addresses'] = df['vout_addresses'].apply(literal_eval)\n",
    "    df['time'] = pd.to_datetime(df['time'])\n",
    "    df['n_utxo'] = df['n_vout'] - df['n_vin']\n",
    "    # df['tx_position_percentile'] = (df['tx_position']/df['n_tx']).mul(100).astype(int)\n",
    "    return df\n",
    "\n",
    "def read_file(filename, usecols=None, parse_dates=False):\n",
    "    return pd.read_csv(filename, sep=';', compression='gzip', usecols=usecols, parse_dates=parse_dates)"
   ]
  },
  {
   "cell_type": "code",
   "execution_count": 8,
   "id": "bbc87da3-51fd-4f7f-b950-383413c80773",
   "metadata": {},
   "outputs": [],
   "source": [
    "def get_miners_wallets_from_blocks(df):\n",
    "    mpo_addresses = dict()\n",
    "    for index, row in df[['miner', 'addresses']].iterrows():\n",
    "        if not row['miner'] in mpo_addresses:\n",
    "            mpo_addresses[row['miner']] = list()\n",
    "        mpo_addresses[row['miner']] += [address for address in row['addresses']]\n",
    "    for miner in mpo_addresses:\n",
    "        mpo_addresses[miner] = list(set(mpo_addresses[miner]))\n",
    "    return mpo_addresses"
   ]
  },
  {
   "cell_type": "markdown",
   "id": "enclosed-gravity",
   "metadata": {},
   "source": [
    "## Loading the data set"
   ]
  },
  {
   "cell_type": "markdown",
   "id": "a7dc2725-abe7-4997-a23e-f5cbf55b22f6",
   "metadata": {},
   "source": [
    "### Miners"
   ]
  },
  {
   "cell_type": "code",
   "execution_count": 9,
   "id": "painful-expansion",
   "metadata": {},
   "outputs": [
    {
     "data": {
      "application/vnd.jupyter.widget-view+json": {
       "model_id": "7e9e174688b24bcc905f77a90a5b73b1",
       "version_major": 2,
       "version_minor": 0
      },
      "text/plain": [
       "  0%|          | 0/53214 [00:00<?, ?it/s]"
      ]
     },
     "metadata": {},
     "output_type": "display_data"
    },
    {
     "data": {
      "application/vnd.jupyter.widget-view+json": {
       "model_id": "ccff112dbf124a7aa8b1a076548df3b2",
       "version_major": 2,
       "version_minor": 0
      },
      "text/plain": [
       "  0%|          | 0/53214 [00:00<?, ?it/s]"
      ]
     },
     "metadata": {},
     "output_type": "display_data"
    },
    {
     "data": {
      "text/plain": [
       "(53214, 5)"
      ]
     },
     "execution_count": 9,
     "metadata": {},
     "output_type": "execute_result"
    }
   ],
   "source": [
    "miners_df = read_file('data-2020/miners-610691--663904.csv.gz')\n",
    "miners_df['addresses'] = miners_df['addresses'].progress_apply(lambda x: x.split(','))\n",
    "miners_df['n_addresses'] = miners_df['addresses'].progress_apply(len)\n",
    "miners_df.shape"
   ]
  },
  {
   "cell_type": "code",
   "execution_count": 10,
   "id": "d29a1296-3990-43f3-a7ff-a0960b7ffeb6",
   "metadata": {},
   "outputs": [
    {
     "data": {
      "text/plain": [
       "Index(['block_height', 'miner', 'n_tx', 'addresses', 'n_addresses'], dtype='object')"
      ]
     },
     "execution_count": 10,
     "metadata": {},
     "output_type": "execute_result"
    }
   ],
   "source": [
    "miners_df.columns"
   ]
  },
  {
   "cell_type": "code",
   "execution_count": 11,
   "id": "dental-problem",
   "metadata": {},
   "outputs": [
    {
     "data": {
      "text/html": [
       "<div>\n",
       "<style scoped>\n",
       "    .dataframe tbody tr th:only-of-type {\n",
       "        vertical-align: middle;\n",
       "    }\n",
       "\n",
       "    .dataframe tbody tr th {\n",
       "        vertical-align: top;\n",
       "    }\n",
       "\n",
       "    .dataframe thead th {\n",
       "        text-align: right;\n",
       "    }\n",
       "</style>\n",
       "<table border=\"1\" class=\"dataframe\">\n",
       "  <thead>\n",
       "    <tr style=\"text-align: right;\">\n",
       "      <th></th>\n",
       "      <th>block_height</th>\n",
       "      <th>miner</th>\n",
       "      <th>n_tx</th>\n",
       "      <th>addresses</th>\n",
       "      <th>n_addresses</th>\n",
       "    </tr>\n",
       "  </thead>\n",
       "  <tbody>\n",
       "    <tr>\n",
       "      <th>0</th>\n",
       "      <td>610691</td>\n",
       "      <td>Poolin</td>\n",
       "      <td>2500</td>\n",
       "      <td>[['1KDf847BWEMwthPHFtvWAfESdQMRnr25f7']]</td>\n",
       "      <td>1</td>\n",
       "    </tr>\n",
       "    <tr>\n",
       "      <th>1</th>\n",
       "      <td>610692</td>\n",
       "      <td>Huobi</td>\n",
       "      <td>1840</td>\n",
       "      <td>[['1C81BGyi8SJ919UxnHm2iwNmaN2RHfU4us']]</td>\n",
       "      <td>1</td>\n",
       "    </tr>\n",
       "    <tr>\n",
       "      <th>2</th>\n",
       "      <td>610693</td>\n",
       "      <td>F2Pool</td>\n",
       "      <td>1105</td>\n",
       "      <td>[['1KFHE7w8BhaENAswwryaoccDb6qcT6DbYY']]</td>\n",
       "      <td>1</td>\n",
       "    </tr>\n",
       "    <tr>\n",
       "      <th>3</th>\n",
       "      <td>610694</td>\n",
       "      <td>Unknown</td>\n",
       "      <td>982</td>\n",
       "      <td>[['3QLeXx1J9Tp3TBnQyHrhVxne9KqkAS9JSR']]</td>\n",
       "      <td>1</td>\n",
       "    </tr>\n",
       "    <tr>\n",
       "      <th>4</th>\n",
       "      <td>610695</td>\n",
       "      <td>AntPool</td>\n",
       "      <td>2881</td>\n",
       "      <td>[['12dRugNcdxK39288NjcDV4GX7rMsKCGn6B']]</td>\n",
       "      <td>1</td>\n",
       "    </tr>\n",
       "  </tbody>\n",
       "</table>\n",
       "</div>"
      ],
      "text/plain": [
       "   block_height    miner  n_tx                                 addresses  \\\n",
       "0        610691   Poolin  2500  [['1KDf847BWEMwthPHFtvWAfESdQMRnr25f7']]   \n",
       "1        610692    Huobi  1840  [['1C81BGyi8SJ919UxnHm2iwNmaN2RHfU4us']]   \n",
       "2        610693   F2Pool  1105  [['1KFHE7w8BhaENAswwryaoccDb6qcT6DbYY']]   \n",
       "3        610694  Unknown   982  [['3QLeXx1J9Tp3TBnQyHrhVxne9KqkAS9JSR']]   \n",
       "4        610695  AntPool  2881  [['12dRugNcdxK39288NjcDV4GX7rMsKCGn6B']]   \n",
       "\n",
       "   n_addresses  \n",
       "0            1  \n",
       "1            1  \n",
       "2            1  \n",
       "3            1  \n",
       "4            1  "
      ]
     },
     "execution_count": 11,
     "metadata": {},
     "output_type": "execute_result"
    }
   ],
   "source": [
    "miners_df.head()"
   ]
  },
  {
   "cell_type": "code",
   "execution_count": 12,
   "id": "1811ccc6-5454-4171-ab8b-111fc351e636",
   "metadata": {},
   "outputs": [],
   "source": [
    "top_miners = miners_df.miner.value_counts().index"
   ]
  },
  {
   "cell_type": "markdown",
   "id": "44a45f37-088d-493a-82da-dea285b0423e",
   "metadata": {},
   "source": [
    "### Blocks"
   ]
  },
  {
   "cell_type": "code",
   "execution_count": 13,
   "id": "employed-metabolism",
   "metadata": {},
   "outputs": [
    {
     "data": {
      "text/plain": [
       "(53214, 18)"
      ]
     },
     "execution_count": 13,
     "metadata": {},
     "output_type": "execute_result"
    }
   ],
   "source": [
    "blocks_df = read_file('data-2020/blocks-610691--663904.csv.gz')\n",
    "blocks_df['time'] = pd.to_datetime(blocks_df['time'])\n",
    "blocks_df['mediantime'] = pd.to_datetime(blocks_df['mediantime'])\n",
    "blocks_df.shape"
   ]
  },
  {
   "cell_type": "code",
   "execution_count": 14,
   "id": "7920e6a3-f1a6-46c5-af12-88d2a3967da8",
   "metadata": {},
   "outputs": [
    {
     "data": {
      "text/plain": [
       "Index(['height', 'hash', 'nTx', 'bits', 'size', 'strippedsize', 'weight',\n",
       "       'vsize', 'time', 'mediantime', 'nonce', 'version', 'chainwork',\n",
       "       'difficulty', 'merkleroot', 'versionHex', 'nextblockhash',\n",
       "       'previousblockhash'],\n",
       "      dtype='object')"
      ]
     },
     "execution_count": 14,
     "metadata": {},
     "output_type": "execute_result"
    }
   ],
   "source": [
    "blocks_df.columns"
   ]
  },
  {
   "cell_type": "code",
   "execution_count": 15,
   "id": "occasional-stake",
   "metadata": {},
   "outputs": [
    {
     "data": {
      "text/html": [
       "<div>\n",
       "<style scoped>\n",
       "    .dataframe tbody tr th:only-of-type {\n",
       "        vertical-align: middle;\n",
       "    }\n",
       "\n",
       "    .dataframe tbody tr th {\n",
       "        vertical-align: top;\n",
       "    }\n",
       "\n",
       "    .dataframe thead th {\n",
       "        text-align: right;\n",
       "    }\n",
       "</style>\n",
       "<table border=\"1\" class=\"dataframe\">\n",
       "  <thead>\n",
       "    <tr style=\"text-align: right;\">\n",
       "      <th></th>\n",
       "      <th>height</th>\n",
       "      <th>hash</th>\n",
       "      <th>nTx</th>\n",
       "      <th>bits</th>\n",
       "      <th>size</th>\n",
       "      <th>strippedsize</th>\n",
       "      <th>weight</th>\n",
       "      <th>vsize</th>\n",
       "      <th>time</th>\n",
       "      <th>mediantime</th>\n",
       "      <th>nonce</th>\n",
       "      <th>version</th>\n",
       "      <th>chainwork</th>\n",
       "      <th>difficulty</th>\n",
       "      <th>merkleroot</th>\n",
       "      <th>versionHex</th>\n",
       "      <th>nextblockhash</th>\n",
       "      <th>previousblockhash</th>\n",
       "    </tr>\n",
       "  </thead>\n",
       "  <tbody>\n",
       "    <tr>\n",
       "      <th>0</th>\n",
       "      <td>610691</td>\n",
       "      <td>00000000000000000001cc49c6ebb2e7546615e1f168161c75d1843257cb233a</td>\n",
       "      <td>2500</td>\n",
       "      <td>1715bcd0</td>\n",
       "      <td>1250129</td>\n",
       "      <td>914500</td>\n",
       "      <td>3993629</td>\n",
       "      <td>998407.25</td>\n",
       "      <td>2020-01-01 00:03:05</td>\n",
       "      <td>2019-12-31 23:07:30</td>\n",
       "      <td>240614342</td>\n",
       "      <td>549453824</td>\n",
       "      <td>00000000000000000000000000000000000000000b517c9e0b7913153c583488</td>\n",
       "      <td>1.29485934e+13</td>\n",
       "      <td>6616c395c80cd1b01704d6a4eb83a96d94c1ee02736c7bff1617abc77c631f89</td>\n",
       "      <td>20c00000</td>\n",
       "      <td>000000000000000000117f1821db8f36e05a70ed9dbffa5ebb0857021f0f2f51</td>\n",
       "      <td>00000000000000000005f0cc9b565336243d08e65f71ba179a33921fb33aeb93</td>\n",
       "    </tr>\n",
       "    <tr>\n",
       "      <th>1</th>\n",
       "      <td>610692</td>\n",
       "      <td>000000000000000000117f1821db8f36e05a70ed9dbffa5ebb0857021f0f2f51</td>\n",
       "      <td>1840</td>\n",
       "      <td>1715bcd0</td>\n",
       "      <td>661706</td>\n",
       "      <td>424345</td>\n",
       "      <td>1934741</td>\n",
       "      <td>483685.25</td>\n",
       "      <td>2020-01-01 00:07:32</td>\n",
       "      <td>2019-12-31 23:13:16</td>\n",
       "      <td>2264085561</td>\n",
       "      <td>536870912</td>\n",
       "      <td>00000000000000000000000000000000000000000b518864eb8f9dbe277d9bda</td>\n",
       "      <td>1.29485934e+13</td>\n",
       "      <td>973352f46a24d90c3f6a8e897edf956b1a2924f2c9d126a39b0895cb245a9d23</td>\n",
       "      <td>20000000</td>\n",
       "      <td>00000000000000000014a2d6530192263dffbb1723acc9d5734d9514138a3f0c</td>\n",
       "      <td>00000000000000000001cc49c6ebb2e7546615e1f168161c75d1843257cb233a</td>\n",
       "    </tr>\n",
       "    <tr>\n",
       "      <th>2</th>\n",
       "      <td>610693</td>\n",
       "      <td>00000000000000000014a2d6530192263dffbb1723acc9d5734d9514138a3f0c</td>\n",
       "      <td>1105</td>\n",
       "      <td>1715bcd0</td>\n",
       "      <td>436344</td>\n",
       "      <td>284543</td>\n",
       "      <td>1289973</td>\n",
       "      <td>322493.25</td>\n",
       "      <td>2020-01-01 00:13:34</td>\n",
       "      <td>2019-12-31 23:22:50</td>\n",
       "      <td>4185504105</td>\n",
       "      <td>1073733632</td>\n",
       "      <td>00000000000000000000000000000000000000000b51942bcba6286712a3032c</td>\n",
       "      <td>1.29485934e+13</td>\n",
       "      <td>f7f2ae580b932bea05e76f9d89b510bfeb5942e499d9cabe3beb9c9fa8f3fa9c</td>\n",
       "      <td>3fffe000</td>\n",
       "      <td>000000000000000000053ba498a77d2e186a0d530abe5cfc44aad1afe3ad867f</td>\n",
       "      <td>000000000000000000117f1821db8f36e05a70ed9dbffa5ebb0857021f0f2f51</td>\n",
       "    </tr>\n",
       "    <tr>\n",
       "      <th>3</th>\n",
       "      <td>610694</td>\n",
       "      <td>000000000000000000053ba498a77d2e186a0d530abe5cfc44aad1afe3ad867f</td>\n",
       "      <td>982</td>\n",
       "      <td>1715bcd0</td>\n",
       "      <td>467181</td>\n",
       "      <td>285676</td>\n",
       "      <td>1324209</td>\n",
       "      <td>331052.25</td>\n",
       "      <td>2020-01-01 00:19:00</td>\n",
       "      <td>2019-12-31 23:37:18</td>\n",
       "      <td>4102308397</td>\n",
       "      <td>1073733632</td>\n",
       "      <td>00000000000000000000000000000000000000000b519ff2abbcb30ffdc86a7e</td>\n",
       "      <td>1.29485934e+13</td>\n",
       "      <td>0fb984cd84240b3c1631e9a6ef7e69def28349a6c0fe0657954231a17104df93</td>\n",
       "      <td>3fffe000</td>\n",
       "      <td>00000000000000000009ae968a937bea55223270e64058a2fea352d73a57fc22</td>\n",
       "      <td>00000000000000000014a2d6530192263dffbb1723acc9d5734d9514138a3f0c</td>\n",
       "    </tr>\n",
       "    <tr>\n",
       "      <th>4</th>\n",
       "      <td>610695</td>\n",
       "      <td>00000000000000000009ae968a937bea55223270e64058a2fea352d73a57fc22</td>\n",
       "      <td>2881</td>\n",
       "      <td>1715bcd0</td>\n",
       "      <td>1123752</td>\n",
       "      <td>758667</td>\n",
       "      <td>3399753</td>\n",
       "      <td>849938.25</td>\n",
       "      <td>2020-01-01 00:37:32</td>\n",
       "      <td>2019-12-31 23:41:32</td>\n",
       "      <td>3452559148</td>\n",
       "      <td>545259520</td>\n",
       "      <td>00000000000000000000000000000000000000000b51abb98bd33db8e8edd1d0</td>\n",
       "      <td>1.29485934e+13</td>\n",
       "      <td>c1a7f17dc14bd5191ff75864a3f3242583e0cf642078c0abde6ac8be682d9ec1</td>\n",
       "      <td>20800000</td>\n",
       "      <td>00000000000000000003510b551473f79a7543cfad1ce97a4ad0793882f6442c</td>\n",
       "      <td>000000000000000000053ba498a77d2e186a0d530abe5cfc44aad1afe3ad867f</td>\n",
       "    </tr>\n",
       "  </tbody>\n",
       "</table>\n",
       "</div>"
      ],
      "text/plain": [
       "   height                                                              hash  \\\n",
       "0  610691  00000000000000000001cc49c6ebb2e7546615e1f168161c75d1843257cb233a   \n",
       "1  610692  000000000000000000117f1821db8f36e05a70ed9dbffa5ebb0857021f0f2f51   \n",
       "2  610693  00000000000000000014a2d6530192263dffbb1723acc9d5734d9514138a3f0c   \n",
       "3  610694  000000000000000000053ba498a77d2e186a0d530abe5cfc44aad1afe3ad867f   \n",
       "4  610695  00000000000000000009ae968a937bea55223270e64058a2fea352d73a57fc22   \n",
       "\n",
       "    nTx      bits     size  strippedsize   weight      vsize  \\\n",
       "0  2500  1715bcd0  1250129        914500  3993629  998407.25   \n",
       "1  1840  1715bcd0   661706        424345  1934741  483685.25   \n",
       "2  1105  1715bcd0   436344        284543  1289973  322493.25   \n",
       "3   982  1715bcd0   467181        285676  1324209  331052.25   \n",
       "4  2881  1715bcd0  1123752        758667  3399753  849938.25   \n",
       "\n",
       "                 time          mediantime       nonce     version  \\\n",
       "0 2020-01-01 00:03:05 2019-12-31 23:07:30   240614342   549453824   \n",
       "1 2020-01-01 00:07:32 2019-12-31 23:13:16  2264085561   536870912   \n",
       "2 2020-01-01 00:13:34 2019-12-31 23:22:50  4185504105  1073733632   \n",
       "3 2020-01-01 00:19:00 2019-12-31 23:37:18  4102308397  1073733632   \n",
       "4 2020-01-01 00:37:32 2019-12-31 23:41:32  3452559148   545259520   \n",
       "\n",
       "                                                          chainwork  \\\n",
       "0  00000000000000000000000000000000000000000b517c9e0b7913153c583488   \n",
       "1  00000000000000000000000000000000000000000b518864eb8f9dbe277d9bda   \n",
       "2  00000000000000000000000000000000000000000b51942bcba6286712a3032c   \n",
       "3  00000000000000000000000000000000000000000b519ff2abbcb30ffdc86a7e   \n",
       "4  00000000000000000000000000000000000000000b51abb98bd33db8e8edd1d0   \n",
       "\n",
       "       difficulty  \\\n",
       "0  1.29485934e+13   \n",
       "1  1.29485934e+13   \n",
       "2  1.29485934e+13   \n",
       "3  1.29485934e+13   \n",
       "4  1.29485934e+13   \n",
       "\n",
       "                                                         merkleroot  \\\n",
       "0  6616c395c80cd1b01704d6a4eb83a96d94c1ee02736c7bff1617abc77c631f89   \n",
       "1  973352f46a24d90c3f6a8e897edf956b1a2924f2c9d126a39b0895cb245a9d23   \n",
       "2  f7f2ae580b932bea05e76f9d89b510bfeb5942e499d9cabe3beb9c9fa8f3fa9c   \n",
       "3  0fb984cd84240b3c1631e9a6ef7e69def28349a6c0fe0657954231a17104df93   \n",
       "4  c1a7f17dc14bd5191ff75864a3f3242583e0cf642078c0abde6ac8be682d9ec1   \n",
       "\n",
       "  versionHex  \\\n",
       "0   20c00000   \n",
       "1   20000000   \n",
       "2   3fffe000   \n",
       "3   3fffe000   \n",
       "4   20800000   \n",
       "\n",
       "                                                      nextblockhash  \\\n",
       "0  000000000000000000117f1821db8f36e05a70ed9dbffa5ebb0857021f0f2f51   \n",
       "1  00000000000000000014a2d6530192263dffbb1723acc9d5734d9514138a3f0c   \n",
       "2  000000000000000000053ba498a77d2e186a0d530abe5cfc44aad1afe3ad867f   \n",
       "3  00000000000000000009ae968a937bea55223270e64058a2fea352d73a57fc22   \n",
       "4  00000000000000000003510b551473f79a7543cfad1ce97a4ad0793882f6442c   \n",
       "\n",
       "                                                  previousblockhash  \n",
       "0  00000000000000000005f0cc9b565336243d08e65f71ba179a33921fb33aeb93  \n",
       "1  00000000000000000001cc49c6ebb2e7546615e1f168161c75d1843257cb233a  \n",
       "2  000000000000000000117f1821db8f36e05a70ed9dbffa5ebb0857021f0f2f51  \n",
       "3  00000000000000000014a2d6530192263dffbb1723acc9d5734d9514138a3f0c  \n",
       "4  000000000000000000053ba498a77d2e186a0d530abe5cfc44aad1afe3ad867f  "
      ]
     },
     "execution_count": 15,
     "metadata": {},
     "output_type": "execute_result"
    }
   ],
   "source": [
    "blocks_df.head()"
   ]
  },
  {
   "cell_type": "markdown",
   "id": "097d0164-b60f-4ee5-b94d-f200f9b15aaa",
   "metadata": {},
   "source": [
    "### Transactions"
   ]
  },
  {
   "cell_type": "code",
   "execution_count": 16,
   "id": "4ee85ca4-e9dd-4184-8a73-8114c8b70254",
   "metadata": {},
   "outputs": [
    {
     "data": {
      "application/vnd.jupyter.widget-view+json": {
       "model_id": "0789a852e5b44fc6a73cf154199731a5",
       "version_major": 2,
       "version_minor": 0
      },
      "text/plain": [
       "Loading files:   0%|          | 0/107 [00:00<?, ?it/s]"
      ]
     },
     "metadata": {},
     "output_type": "display_data"
    },
    {
     "name": "stdout",
     "output_type": "stream",
     "text": [
      "Concating dataframes\n"
     ]
    },
    {
     "data": {
      "text/plain": [
       "(112542268, 28)"
      ]
     },
     "execution_count": 16,
     "metadata": {},
     "output_type": "execute_result"
    }
   ],
   "source": [
    "txs_df = load_transactions(n_cores=cpu_count()-1)\n",
    "txs_df.shape"
   ]
  },
  {
   "cell_type": "code",
   "execution_count": 17,
   "id": "c41ed949-eba6-4660-98ab-28bcafd62bec",
   "metadata": {},
   "outputs": [],
   "source": [
    "txs_df.sort_values(by=['block_height', 'tx_position'], inplace=True)"
   ]
  },
  {
   "cell_type": "code",
   "execution_count": 18,
   "id": "verbal-brunswick",
   "metadata": {},
   "outputs": [
    {
     "name": "stdout",
     "output_type": "stream",
     "text": [
      "set index as time\n"
     ]
    }
   ],
   "source": [
    "print(\"set index as time\")\n",
    "txs_df.set_index('time', inplace=True)"
   ]
  },
  {
   "cell_type": "code",
   "execution_count": 19,
   "id": "5f104e26-53ba-448b-9688-2cf70e2349d7",
   "metadata": {},
   "outputs": [
    {
     "data": {
      "text/plain": [
       "Index(['block_height', 'miner', 'txid', 'is_cpfp', 'is_coinbase',\n",
       "       'tx_position', 'vin', 'vout', 'n_vin', 'n_vout', 'hash', 'vsize',\n",
       "       'size', 'fee', 'cfeerate', 'satsize', 'feerate', 'version', 'locktime',\n",
       "       'n_addresses', 'n_spends_from', 'spends_from', 'n_vin_addresses',\n",
       "       'n_vout_addresses', 'vin_addresses', 'vout_addresses', 'n_utxo'],\n",
       "      dtype='object')"
      ]
     },
     "execution_count": 19,
     "metadata": {},
     "output_type": "execute_result"
    }
   ],
   "source": [
    "txs_df.columns"
   ]
  },
  {
   "cell_type": "code",
   "execution_count": 20,
   "id": "b8acce62-c097-4dff-9bad-530ead8fb628",
   "metadata": {},
   "outputs": [
    {
     "data": {
      "text/html": [
       "<div>\n",
       "<style scoped>\n",
       "    .dataframe tbody tr th:only-of-type {\n",
       "        vertical-align: middle;\n",
       "    }\n",
       "\n",
       "    .dataframe tbody tr th {\n",
       "        vertical-align: top;\n",
       "    }\n",
       "\n",
       "    .dataframe thead th {\n",
       "        text-align: right;\n",
       "    }\n",
       "</style>\n",
       "<table border=\"1\" class=\"dataframe\">\n",
       "  <thead>\n",
       "    <tr style=\"text-align: right;\">\n",
       "      <th></th>\n",
       "      <th>txid</th>\n",
       "      <th>n_addresses</th>\n",
       "      <th>n_addresses</th>\n",
       "      <th>fee</th>\n",
       "      <th>vsize</th>\n",
       "      <th>feerate</th>\n",
       "      <th>satsize</th>\n",
       "      <th>cfeerate</th>\n",
       "    </tr>\n",
       "    <tr>\n",
       "      <th>time</th>\n",
       "      <th></th>\n",
       "      <th></th>\n",
       "      <th></th>\n",
       "      <th></th>\n",
       "      <th></th>\n",
       "      <th></th>\n",
       "      <th></th>\n",
       "      <th></th>\n",
       "    </tr>\n",
       "  </thead>\n",
       "  <tbody>\n",
       "    <tr>\n",
       "      <th>2020-01-01 00:03:05</th>\n",
       "      <td>e12aadca7a51e816dd804536f6eb140bbf959ce7697626cb9c2a88d33ace5b1f</td>\n",
       "      <td>1</td>\n",
       "      <td>1</td>\n",
       "      <td>-12.67534026</td>\n",
       "      <td>335</td>\n",
       "      <td>-37.83683660</td>\n",
       "      <td>-3.78368366e+06</td>\n",
       "      <td>-3783683659</td>\n",
       "    </tr>\n",
       "    <tr>\n",
       "      <th>2020-01-01 00:03:05</th>\n",
       "      <td>c425c221200841914c7189d22f21d84616a7809a6aa7a4308a4eab27ae957cbc</td>\n",
       "      <td>2</td>\n",
       "      <td>2</td>\n",
       "      <td>0.00226773</td>\n",
       "      <td>223</td>\n",
       "      <td>0.01016919</td>\n",
       "      <td>1.01691928e+03</td>\n",
       "      <td>1016919</td>\n",
       "    </tr>\n",
       "    <tr>\n",
       "      <th>2020-01-01 00:03:05</th>\n",
       "      <td>630a2610828f40c370ce896bb3ba59561e7b0c1abc99452da72d7d896b3d372b</td>\n",
       "      <td>1</td>\n",
       "      <td>1</td>\n",
       "      <td>0.00170170</td>\n",
       "      <td>381</td>\n",
       "      <td>0.00446640</td>\n",
       "      <td>4.46640420e+02</td>\n",
       "      <td>446640</td>\n",
       "    </tr>\n",
       "    <tr>\n",
       "      <th>2020-01-01 00:03:05</th>\n",
       "      <td>748b26c5570a8c95250817f1a77ba5075769f5e16adb25af92025fe0284abc3e</td>\n",
       "      <td>1</td>\n",
       "      <td>1</td>\n",
       "      <td>0.00170170</td>\n",
       "      <td>381</td>\n",
       "      <td>0.00446640</td>\n",
       "      <td>4.46640420e+02</td>\n",
       "      <td>446640</td>\n",
       "    </tr>\n",
       "    <tr>\n",
       "      <th>2020-01-01 00:03:05</th>\n",
       "      <td>d126a038ca44a48ce79cc2a67318bf1be5e09b8d9e781d53533d64c0cb125d82</td>\n",
       "      <td>1</td>\n",
       "      <td>1</td>\n",
       "      <td>0.00170170</td>\n",
       "      <td>381</td>\n",
       "      <td>0.00446640</td>\n",
       "      <td>4.46640420e+02</td>\n",
       "      <td>446640</td>\n",
       "    </tr>\n",
       "  </tbody>\n",
       "</table>\n",
       "</div>"
      ],
      "text/plain": [
       "                                                                                 txid  \\\n",
       "time                                                                                    \n",
       "2020-01-01 00:03:05  e12aadca7a51e816dd804536f6eb140bbf959ce7697626cb9c2a88d33ace5b1f   \n",
       "2020-01-01 00:03:05  c425c221200841914c7189d22f21d84616a7809a6aa7a4308a4eab27ae957cbc   \n",
       "2020-01-01 00:03:05  630a2610828f40c370ce896bb3ba59561e7b0c1abc99452da72d7d896b3d372b   \n",
       "2020-01-01 00:03:05  748b26c5570a8c95250817f1a77ba5075769f5e16adb25af92025fe0284abc3e   \n",
       "2020-01-01 00:03:05  d126a038ca44a48ce79cc2a67318bf1be5e09b8d9e781d53533d64c0cb125d82   \n",
       "\n",
       "                     n_addresses  n_addresses          fee  vsize  \\\n",
       "time                                                                \n",
       "2020-01-01 00:03:05            1            1 -12.67534026    335   \n",
       "2020-01-01 00:03:05            2            2   0.00226773    223   \n",
       "2020-01-01 00:03:05            1            1   0.00170170    381   \n",
       "2020-01-01 00:03:05            1            1   0.00170170    381   \n",
       "2020-01-01 00:03:05            1            1   0.00170170    381   \n",
       "\n",
       "                         feerate         satsize    cfeerate  \n",
       "time                                                          \n",
       "2020-01-01 00:03:05 -37.83683660 -3.78368366e+06 -3783683659  \n",
       "2020-01-01 00:03:05   0.01016919  1.01691928e+03     1016919  \n",
       "2020-01-01 00:03:05   0.00446640  4.46640420e+02      446640  \n",
       "2020-01-01 00:03:05   0.00446640  4.46640420e+02      446640  \n",
       "2020-01-01 00:03:05   0.00446640  4.46640420e+02      446640  "
      ]
     },
     "execution_count": 20,
     "metadata": {},
     "output_type": "execute_result"
    }
   ],
   "source": [
    "txs_df.head()[['txid', 'n_addresses', 'n_addresses', 'fee', 'vsize', 'feerate', 'satsize', 'cfeerate']]"
   ]
  },
  {
   "cell_type": "code",
   "execution_count": 21,
   "id": "d3cc485a-c5e3-436b-b49a-294926abdc0f",
   "metadata": {},
   "outputs": [
    {
     "data": {
      "text/html": [
       "<div>\n",
       "<style scoped>\n",
       "    .dataframe tbody tr th:only-of-type {\n",
       "        vertical-align: middle;\n",
       "    }\n",
       "\n",
       "    .dataframe tbody tr th {\n",
       "        vertical-align: top;\n",
       "    }\n",
       "\n",
       "    .dataframe thead th {\n",
       "        text-align: right;\n",
       "    }\n",
       "</style>\n",
       "<table border=\"1\" class=\"dataframe\">\n",
       "  <thead>\n",
       "    <tr style=\"text-align: right;\">\n",
       "      <th></th>\n",
       "      <th>block_height</th>\n",
       "      <th>miner</th>\n",
       "      <th>txid</th>\n",
       "      <th>is_cpfp</th>\n",
       "      <th>is_coinbase</th>\n",
       "      <th>tx_position</th>\n",
       "      <th>vin</th>\n",
       "      <th>vout</th>\n",
       "      <th>n_vin</th>\n",
       "      <th>n_vout</th>\n",
       "      <th>...</th>\n",
       "      <th>version</th>\n",
       "      <th>locktime</th>\n",
       "      <th>n_addresses</th>\n",
       "      <th>n_spends_from</th>\n",
       "      <th>spends_from</th>\n",
       "      <th>n_vin_addresses</th>\n",
       "      <th>n_vout_addresses</th>\n",
       "      <th>vin_addresses</th>\n",
       "      <th>vout_addresses</th>\n",
       "      <th>n_utxo</th>\n",
       "    </tr>\n",
       "    <tr>\n",
       "      <th>time</th>\n",
       "      <th></th>\n",
       "      <th></th>\n",
       "      <th></th>\n",
       "      <th></th>\n",
       "      <th></th>\n",
       "      <th></th>\n",
       "      <th></th>\n",
       "      <th></th>\n",
       "      <th></th>\n",
       "      <th></th>\n",
       "      <th></th>\n",
       "      <th></th>\n",
       "      <th></th>\n",
       "      <th></th>\n",
       "      <th></th>\n",
       "      <th></th>\n",
       "      <th></th>\n",
       "      <th></th>\n",
       "      <th></th>\n",
       "      <th></th>\n",
       "      <th></th>\n",
       "    </tr>\n",
       "  </thead>\n",
       "  <tbody>\n",
       "    <tr>\n",
       "      <th>2020-01-01 00:03:05</th>\n",
       "      <td>610691</td>\n",
       "      <td>Poolin</td>\n",
       "      <td>e12aadca7a51e816dd804536f6eb140bbf959ce7697626cb9c2a88d33ace5b1f</td>\n",
       "      <td>False</td>\n",
       "      <td>True</td>\n",
       "      <td>0</td>\n",
       "      <td>0.00000000</td>\n",
       "      <td>12.67534026</td>\n",
       "      <td>1</td>\n",
       "      <td>4</td>\n",
       "      <td>...</td>\n",
       "      <td>1</td>\n",
       "      <td>2131434439</td>\n",
       "      <td>1</td>\n",
       "      <td>0</td>\n",
       "      <td>[]</td>\n",
       "      <td>0</td>\n",
       "      <td>1</td>\n",
       "      <td>[]</td>\n",
       "      <td>[(1KDf847BWEMwthPHFtvWAfESdQMRnr25f7, 12.67534026)]</td>\n",
       "      <td>3</td>\n",
       "    </tr>\n",
       "    <tr>\n",
       "      <th>2020-01-01 00:03:05</th>\n",
       "      <td>610691</td>\n",
       "      <td>Poolin</td>\n",
       "      <td>c425c221200841914c7189d22f21d84616a7809a6aa7a4308a4eab27ae957cbc</td>\n",
       "      <td>False</td>\n",
       "      <td>False</td>\n",
       "      <td>1</td>\n",
       "      <td>1.31800000</td>\n",
       "      <td>1.31573227</td>\n",
       "      <td>1</td>\n",
       "      <td>2</td>\n",
       "      <td>...</td>\n",
       "      <td>1</td>\n",
       "      <td>0</td>\n",
       "      <td>2</td>\n",
       "      <td>1</td>\n",
       "      <td>[ce6435836733787db9f7cc8fd14f5f351c0414d66985f5a2946ca4cecc920ac6]</td>\n",
       "      <td>1</td>\n",
       "      <td>2</td>\n",
       "      <td>[(17z8pewch1CbQvg75uqKP4eo5YQwLapccC, 1.318)]</td>\n",
       "      <td>[(35LN5maPgWjhrKnYcMnwQD5oAoRcdTwNga, 0.5), (1EvL2QhZT9PHvsGaVer9LVkjWrExaGfxpK, 0.81573227)]</td>\n",
       "      <td>1</td>\n",
       "    </tr>\n",
       "    <tr>\n",
       "      <th>2020-01-01 00:03:05</th>\n",
       "      <td>610691</td>\n",
       "      <td>Poolin</td>\n",
       "      <td>630a2610828f40c370ce896bb3ba59561e7b0c1abc99452da72d7d896b3d372b</td>\n",
       "      <td>False</td>\n",
       "      <td>False</td>\n",
       "      <td>2</td>\n",
       "      <td>0.00331581</td>\n",
       "      <td>0.00161411</td>\n",
       "      <td>2</td>\n",
       "      <td>2</td>\n",
       "      <td>...</td>\n",
       "      <td>1</td>\n",
       "      <td>0</td>\n",
       "      <td>1</td>\n",
       "      <td>2</td>\n",
       "      <td>[6f3698c19147cb6fa69a088608b45c29d31009e9f36549b06f21ad5b7903ad38, 9b52b5120a0ef9605f0eec4b4a6b5114cb08c3f6877c63286fc064f409e7a8b8]</td>\n",
       "      <td>2</td>\n",
       "      <td>1</td>\n",
       "      <td>[(1FGiZB7K757EUixGcyeyME6Jp8qQZEiUUk, 0.00142631), (1FGiZB7K757EUixGcyeyME6Jp8qQZEiUUk, 0.0018895)]</td>\n",
       "      <td>[(1FGiZB7K757EUixGcyeyME6Jp8qQZEiUUk, 0.00161411)]</td>\n",
       "      <td>0</td>\n",
       "    </tr>\n",
       "    <tr>\n",
       "      <th>2020-01-01 00:03:05</th>\n",
       "      <td>610691</td>\n",
       "      <td>Poolin</td>\n",
       "      <td>748b26c5570a8c95250817f1a77ba5075769f5e16adb25af92025fe0284abc3e</td>\n",
       "      <td>False</td>\n",
       "      <td>False</td>\n",
       "      <td>3</td>\n",
       "      <td>0.00477006</td>\n",
       "      <td>0.00306836</td>\n",
       "      <td>2</td>\n",
       "      <td>2</td>\n",
       "      <td>...</td>\n",
       "      <td>1</td>\n",
       "      <td>0</td>\n",
       "      <td>1</td>\n",
       "      <td>2</td>\n",
       "      <td>[77c68719c3be4691438a8325821dffe7911171180f1c8f01dd0438e00dd3caf8, 22ad0ae68de93eb1218ae597bdcab9f4495ca6a072cb7e11eb31f948a9e7140b]</td>\n",
       "      <td>2</td>\n",
       "      <td>1</td>\n",
       "      <td>[(1JctmVUHHfchRQHR1K1v9E9rs3mSWLGEmt, 0.00231716), (1JctmVUHHfchRQHR1K1v9E9rs3mSWLGEmt, 0.0024529)]</td>\n",
       "      <td>[(1JctmVUHHfchRQHR1K1v9E9rs3mSWLGEmt, 0.00306836)]</td>\n",
       "      <td>0</td>\n",
       "    </tr>\n",
       "    <tr>\n",
       "      <th>2020-01-01 00:03:05</th>\n",
       "      <td>610691</td>\n",
       "      <td>Poolin</td>\n",
       "      <td>d126a038ca44a48ce79cc2a67318bf1be5e09b8d9e781d53533d64c0cb125d82</td>\n",
       "      <td>False</td>\n",
       "      <td>False</td>\n",
       "      <td>4</td>\n",
       "      <td>0.00463432</td>\n",
       "      <td>0.00293262</td>\n",
       "      <td>2</td>\n",
       "      <td>2</td>\n",
       "      <td>...</td>\n",
       "      <td>1</td>\n",
       "      <td>0</td>\n",
       "      <td>1</td>\n",
       "      <td>2</td>\n",
       "      <td>[ec0c923602107f4395fe01051d86febbd1904acc1b9d220020005e98874d5a96, 69851387f4921f4569de06197819db188bc5ed91085cb322f903116785790f4c]</td>\n",
       "      <td>2</td>\n",
       "      <td>1</td>\n",
       "      <td>[(12tLxUuMAnvh9pXdBSBwxL5VtK68dTbNS3, 0.00231716), (12tLxUuMAnvh9pXdBSBwxL5VtK68dTbNS3, 0.00231716)]</td>\n",
       "      <td>[(12tLxUuMAnvh9pXdBSBwxL5VtK68dTbNS3, 0.00293262)]</td>\n",
       "      <td>0</td>\n",
       "    </tr>\n",
       "  </tbody>\n",
       "</table>\n",
       "<p>5 rows × 27 columns</p>\n",
       "</div>"
      ],
      "text/plain": [
       "                     block_height   miner  \\\n",
       "time                                        \n",
       "2020-01-01 00:03:05        610691  Poolin   \n",
       "2020-01-01 00:03:05        610691  Poolin   \n",
       "2020-01-01 00:03:05        610691  Poolin   \n",
       "2020-01-01 00:03:05        610691  Poolin   \n",
       "2020-01-01 00:03:05        610691  Poolin   \n",
       "\n",
       "                                                                                 txid  \\\n",
       "time                                                                                    \n",
       "2020-01-01 00:03:05  e12aadca7a51e816dd804536f6eb140bbf959ce7697626cb9c2a88d33ace5b1f   \n",
       "2020-01-01 00:03:05  c425c221200841914c7189d22f21d84616a7809a6aa7a4308a4eab27ae957cbc   \n",
       "2020-01-01 00:03:05  630a2610828f40c370ce896bb3ba59561e7b0c1abc99452da72d7d896b3d372b   \n",
       "2020-01-01 00:03:05  748b26c5570a8c95250817f1a77ba5075769f5e16adb25af92025fe0284abc3e   \n",
       "2020-01-01 00:03:05  d126a038ca44a48ce79cc2a67318bf1be5e09b8d9e781d53533d64c0cb125d82   \n",
       "\n",
       "                     is_cpfp  is_coinbase  tx_position         vin  \\\n",
       "time                                                                 \n",
       "2020-01-01 00:03:05    False         True            0  0.00000000   \n",
       "2020-01-01 00:03:05    False        False            1  1.31800000   \n",
       "2020-01-01 00:03:05    False        False            2  0.00331581   \n",
       "2020-01-01 00:03:05    False        False            3  0.00477006   \n",
       "2020-01-01 00:03:05    False        False            4  0.00463432   \n",
       "\n",
       "                            vout  n_vin  n_vout  ... version    locktime  \\\n",
       "time                                             ...                       \n",
       "2020-01-01 00:03:05  12.67534026      1       4  ...       1  2131434439   \n",
       "2020-01-01 00:03:05   1.31573227      1       2  ...       1           0   \n",
       "2020-01-01 00:03:05   0.00161411      2       2  ...       1           0   \n",
       "2020-01-01 00:03:05   0.00306836      2       2  ...       1           0   \n",
       "2020-01-01 00:03:05   0.00293262      2       2  ...       1           0   \n",
       "\n",
       "                     n_addresses  n_spends_from  \\\n",
       "time                                              \n",
       "2020-01-01 00:03:05            1              0   \n",
       "2020-01-01 00:03:05            2              1   \n",
       "2020-01-01 00:03:05            1              2   \n",
       "2020-01-01 00:03:05            1              2   \n",
       "2020-01-01 00:03:05            1              2   \n",
       "\n",
       "                                                                                                                                              spends_from  \\\n",
       "time                                                                                                                                                        \n",
       "2020-01-01 00:03:05                                                                                                                                    []   \n",
       "2020-01-01 00:03:05                                                                    [ce6435836733787db9f7cc8fd14f5f351c0414d66985f5a2946ca4cecc920ac6]   \n",
       "2020-01-01 00:03:05  [6f3698c19147cb6fa69a088608b45c29d31009e9f36549b06f21ad5b7903ad38, 9b52b5120a0ef9605f0eec4b4a6b5114cb08c3f6877c63286fc064f409e7a8b8]   \n",
       "2020-01-01 00:03:05  [77c68719c3be4691438a8325821dffe7911171180f1c8f01dd0438e00dd3caf8, 22ad0ae68de93eb1218ae597bdcab9f4495ca6a072cb7e11eb31f948a9e7140b]   \n",
       "2020-01-01 00:03:05  [ec0c923602107f4395fe01051d86febbd1904acc1b9d220020005e98874d5a96, 69851387f4921f4569de06197819db188bc5ed91085cb322f903116785790f4c]   \n",
       "\n",
       "                     n_vin_addresses  n_vout_addresses  \\\n",
       "time                                                     \n",
       "2020-01-01 00:03:05                0                 1   \n",
       "2020-01-01 00:03:05                1                 2   \n",
       "2020-01-01 00:03:05                2                 1   \n",
       "2020-01-01 00:03:05                2                 1   \n",
       "2020-01-01 00:03:05                2                 1   \n",
       "\n",
       "                                                                                                            vin_addresses  \\\n",
       "time                                                                                                                        \n",
       "2020-01-01 00:03:05                                                                                                    []   \n",
       "2020-01-01 00:03:05                                                         [(17z8pewch1CbQvg75uqKP4eo5YQwLapccC, 1.318)]   \n",
       "2020-01-01 00:03:05   [(1FGiZB7K757EUixGcyeyME6Jp8qQZEiUUk, 0.00142631), (1FGiZB7K757EUixGcyeyME6Jp8qQZEiUUk, 0.0018895)]   \n",
       "2020-01-01 00:03:05   [(1JctmVUHHfchRQHR1K1v9E9rs3mSWLGEmt, 0.00231716), (1JctmVUHHfchRQHR1K1v9E9rs3mSWLGEmt, 0.0024529)]   \n",
       "2020-01-01 00:03:05  [(12tLxUuMAnvh9pXdBSBwxL5VtK68dTbNS3, 0.00231716), (12tLxUuMAnvh9pXdBSBwxL5VtK68dTbNS3, 0.00231716)]   \n",
       "\n",
       "                                                                                                    vout_addresses  \\\n",
       "time                                                                                                                 \n",
       "2020-01-01 00:03:05                                            [(1KDf847BWEMwthPHFtvWAfESdQMRnr25f7, 12.67534026)]   \n",
       "2020-01-01 00:03:05  [(35LN5maPgWjhrKnYcMnwQD5oAoRcdTwNga, 0.5), (1EvL2QhZT9PHvsGaVer9LVkjWrExaGfxpK, 0.81573227)]   \n",
       "2020-01-01 00:03:05                                             [(1FGiZB7K757EUixGcyeyME6Jp8qQZEiUUk, 0.00161411)]   \n",
       "2020-01-01 00:03:05                                             [(1JctmVUHHfchRQHR1K1v9E9rs3mSWLGEmt, 0.00306836)]   \n",
       "2020-01-01 00:03:05                                             [(12tLxUuMAnvh9pXdBSBwxL5VtK68dTbNS3, 0.00293262)]   \n",
       "\n",
       "                     n_utxo  \n",
       "time                         \n",
       "2020-01-01 00:03:05       3  \n",
       "2020-01-01 00:03:05       1  \n",
       "2020-01-01 00:03:05       0  \n",
       "2020-01-01 00:03:05       0  \n",
       "2020-01-01 00:03:05       0  \n",
       "\n",
       "[5 rows x 27 columns]"
      ]
     },
     "execution_count": 21,
     "metadata": {},
     "output_type": "execute_result"
    }
   ],
   "source": [
    "txs_df.head()"
   ]
  },
  {
   "cell_type": "code",
   "execution_count": 22,
   "id": "british-advertiser",
   "metadata": {},
   "outputs": [
    {
     "data": {
      "text/plain": [
       "False    112489054\n",
       "True         53214\n",
       "Name: is_coinbase, dtype: int64"
      ]
     },
     "execution_count": 22,
     "metadata": {},
     "output_type": "execute_result"
    }
   ],
   "source": [
    "txs_df.is_coinbase.value_counts()"
   ]
  },
  {
   "cell_type": "markdown",
   "id": "southern-interest",
   "metadata": {},
   "source": [
    "## Merging data sets"
   ]
  },
  {
   "cell_type": "code",
   "execution_count": 23,
   "id": "chinese-environment",
   "metadata": {},
   "outputs": [
    {
     "name": "stdout",
     "output_type": "stream",
     "text": [
      "merging blocks to miners\n",
      "merging miners and blocks\n"
     ]
    }
   ],
   "source": [
    "print('merging blocks to miners')\n",
    "miners_df = miners_df.merge(\n",
    "    blocks_df[['height', 'time', 'nTx']], left_on='block_height', right_on='height', how='left'\n",
    ").drop(columns=['height', 'n_tx']).rename(columns={'nTx': 'n_tx'})\n",
    "\n",
    "print('merging miners and blocks')\n",
    "blocks_df = blocks_df.merge(\n",
    "    miners_df[['block_height', 'miner']], left_on='height', right_on='block_height', how='left'\n",
    ").drop(columns=['height'])"
   ]
  },
  {
   "cell_type": "markdown",
   "id": "analyzed-bruce",
   "metadata": {},
   "source": [
    "## Filtering miners and blocks to 2020 data set"
   ]
  },
  {
   "cell_type": "code",
   "execution_count": 24,
   "id": "political-nashville",
   "metadata": {},
   "outputs": [],
   "source": [
    "miners_df.set_index('time', inplace=True)"
   ]
  },
  {
   "cell_type": "code",
   "execution_count": 25,
   "id": "0c5759d1-bed6-42ac-b1e8-e44f1b23fd33",
   "metadata": {},
   "outputs": [
    {
     "data": {
      "text/html": [
       "<div>\n",
       "<style scoped>\n",
       "    .dataframe tbody tr th:only-of-type {\n",
       "        vertical-align: middle;\n",
       "    }\n",
       "\n",
       "    .dataframe tbody tr th {\n",
       "        vertical-align: top;\n",
       "    }\n",
       "\n",
       "    .dataframe thead th {\n",
       "        text-align: right;\n",
       "    }\n",
       "</style>\n",
       "<table border=\"1\" class=\"dataframe\">\n",
       "  <thead>\n",
       "    <tr style=\"text-align: right;\">\n",
       "      <th></th>\n",
       "      <th>abs. number</th>\n",
       "      <th>fraction</th>\n",
       "    </tr>\n",
       "  </thead>\n",
       "  <tbody>\n",
       "    <tr>\n",
       "      <th>F2Pool</th>\n",
       "      <td>9326.0</td>\n",
       "      <td>0.17525463</td>\n",
       "    </tr>\n",
       "    <tr>\n",
       "      <th>Poolin</th>\n",
       "      <td>7876.0</td>\n",
       "      <td>0.14800616</td>\n",
       "    </tr>\n",
       "    <tr>\n",
       "      <th>BTC.com</th>\n",
       "      <td>6381.0</td>\n",
       "      <td>0.11991205</td>\n",
       "    </tr>\n",
       "    <tr>\n",
       "      <th>AntPool</th>\n",
       "      <td>5832.0</td>\n",
       "      <td>0.10959522</td>\n",
       "    </tr>\n",
       "    <tr>\n",
       "      <th>Huobi</th>\n",
       "      <td>3990.0</td>\n",
       "      <td>0.07498027</td>\n",
       "    </tr>\n",
       "    <tr>\n",
       "      <th>ViaBTC</th>\n",
       "      <td>3596.0</td>\n",
       "      <td>0.06757620</td>\n",
       "    </tr>\n",
       "    <tr>\n",
       "      <th>1THash &amp; 58COIN</th>\n",
       "      <td>3252.0</td>\n",
       "      <td>0.06111174</td>\n",
       "    </tr>\n",
       "    <tr>\n",
       "      <th>Okex</th>\n",
       "      <td>2569.0</td>\n",
       "      <td>0.04827677</td>\n",
       "    </tr>\n",
       "    <tr>\n",
       "      <th>Binance Pool</th>\n",
       "      <td>2393.0</td>\n",
       "      <td>0.04496937</td>\n",
       "    </tr>\n",
       "    <tr>\n",
       "      <th>SlushPool</th>\n",
       "      <td>1994.0</td>\n",
       "      <td>0.03747134</td>\n",
       "    </tr>\n",
       "    <tr>\n",
       "      <th>Lubian.com</th>\n",
       "      <td>1369.0</td>\n",
       "      <td>0.02572631</td>\n",
       "    </tr>\n",
       "    <tr>\n",
       "      <th>BTC.TOP</th>\n",
       "      <td>1353.0</td>\n",
       "      <td>0.02542564</td>\n",
       "    </tr>\n",
       "    <tr>\n",
       "      <th>Unknown</th>\n",
       "      <td>703.0</td>\n",
       "      <td>0.01321081</td>\n",
       "    </tr>\n",
       "    <tr>\n",
       "      <th>NovaBlock</th>\n",
       "      <td>597.0</td>\n",
       "      <td>0.01121885</td>\n",
       "    </tr>\n",
       "    <tr>\n",
       "      <th>BytePool</th>\n",
       "      <td>475.0</td>\n",
       "      <td>0.00892622</td>\n",
       "    </tr>\n",
       "    <tr>\n",
       "      <th>SpiderPool</th>\n",
       "      <td>329.0</td>\n",
       "      <td>0.00618258</td>\n",
       "    </tr>\n",
       "    <tr>\n",
       "      <th>BitFury</th>\n",
       "      <td>263.0</td>\n",
       "      <td>0.00494231</td>\n",
       "    </tr>\n",
       "    <tr>\n",
       "      <th>E2M &amp; BTC.TOP</th>\n",
       "      <td>195.0</td>\n",
       "      <td>0.00366445</td>\n",
       "    </tr>\n",
       "    <tr>\n",
       "      <th>BitDeer</th>\n",
       "      <td>164.0</td>\n",
       "      <td>0.00308190</td>\n",
       "    </tr>\n",
       "    <tr>\n",
       "      <th>Buffett</th>\n",
       "      <td>127.0</td>\n",
       "      <td>0.00238659</td>\n",
       "    </tr>\n",
       "    <tr>\n",
       "      <th>Bitcoin.com</th>\n",
       "      <td>109.0</td>\n",
       "      <td>0.00204833</td>\n",
       "    </tr>\n",
       "    <tr>\n",
       "      <th>OKKONG</th>\n",
       "      <td>94.0</td>\n",
       "      <td>0.00176645</td>\n",
       "    </tr>\n",
       "    <tr>\n",
       "      <th>Taal</th>\n",
       "      <td>50.0</td>\n",
       "      <td>0.00093960</td>\n",
       "    </tr>\n",
       "    <tr>\n",
       "      <th>BTCPool</th>\n",
       "      <td>49.0</td>\n",
       "      <td>0.00092081</td>\n",
       "    </tr>\n",
       "    <tr>\n",
       "      <th>CKPool</th>\n",
       "      <td>49.0</td>\n",
       "      <td>0.00092081</td>\n",
       "    </tr>\n",
       "    <tr>\n",
       "      <th>SigmaPool</th>\n",
       "      <td>45.0</td>\n",
       "      <td>0.00084564</td>\n",
       "    </tr>\n",
       "    <tr>\n",
       "      <th>TMSPool</th>\n",
       "      <td>13.0</td>\n",
       "      <td>0.00024430</td>\n",
       "    </tr>\n",
       "    <tr>\n",
       "      <th>PooIn.com</th>\n",
       "      <td>9.0</td>\n",
       "      <td>0.00016913</td>\n",
       "    </tr>\n",
       "    <tr>\n",
       "      <th>SBICrypto</th>\n",
       "      <td>5.0</td>\n",
       "      <td>0.00009396</td>\n",
       "    </tr>\n",
       "    <tr>\n",
       "      <th>KanoPool</th>\n",
       "      <td>4.0</td>\n",
       "      <td>0.00007517</td>\n",
       "    </tr>\n",
       "    <tr>\n",
       "      <th>Foundry</th>\n",
       "      <td>3.0</td>\n",
       "      <td>0.00005638</td>\n",
       "    </tr>\n",
       "  </tbody>\n",
       "</table>\n",
       "</div>"
      ],
      "text/plain": [
       "                 abs. number    fraction\n",
       "F2Pool                9326.0  0.17525463\n",
       "Poolin                7876.0  0.14800616\n",
       "BTC.com               6381.0  0.11991205\n",
       "AntPool               5832.0  0.10959522\n",
       "Huobi                 3990.0  0.07498027\n",
       "ViaBTC                3596.0  0.06757620\n",
       "1THash & 58COIN       3252.0  0.06111174\n",
       "Okex                  2569.0  0.04827677\n",
       "Binance Pool          2393.0  0.04496937\n",
       "SlushPool             1994.0  0.03747134\n",
       "Lubian.com            1369.0  0.02572631\n",
       "BTC.TOP               1353.0  0.02542564\n",
       "Unknown                703.0  0.01321081\n",
       "NovaBlock              597.0  0.01121885\n",
       "BytePool               475.0  0.00892622\n",
       "SpiderPool             329.0  0.00618258\n",
       "BitFury                263.0  0.00494231\n",
       "E2M & BTC.TOP          195.0  0.00366445\n",
       "BitDeer                164.0  0.00308190\n",
       "Buffett                127.0  0.00238659\n",
       "Bitcoin.com            109.0  0.00204833\n",
       "OKKONG                  94.0  0.00176645\n",
       "Taal                    50.0  0.00093960\n",
       "BTCPool                 49.0  0.00092081\n",
       "CKPool                  49.0  0.00092081\n",
       "SigmaPool               45.0  0.00084564\n",
       "TMSPool                 13.0  0.00024430\n",
       "PooIn.com                9.0  0.00016913\n",
       "SBICrypto                5.0  0.00009396\n",
       "KanoPool                 4.0  0.00007517\n",
       "Foundry                  3.0  0.00005638"
      ]
     },
     "execution_count": 25,
     "metadata": {},
     "output_type": "execute_result"
    }
   ],
   "source": [
    "miner_stats = pd.DataFrame([miners_df.miner.value_counts(normalize=False), miners_df.miner.value_counts(normalize=True)]).transpose()\n",
    "miner_stats.columns = ['abs. number', 'fraction']\n",
    "miner_stats"
   ]
  },
  {
   "cell_type": "markdown",
   "id": "automated-happiness",
   "metadata": {},
   "source": [
    "# Building filtered data set with non-CPFP txs"
   ]
  },
  {
   "cell_type": "code",
   "execution_count": 26,
   "id": "governing-royalty",
   "metadata": {},
   "outputs": [],
   "source": [
    "# Filtering out CPFP-txs and coinbase transactions\n",
    "non_cpfp_txs_df = txs_df.query('not is_coinbase and not is_cpfp')"
   ]
  },
  {
   "cell_type": "code",
   "execution_count": 27,
   "id": "atomic-serbia",
   "metadata": {},
   "outputs": [
    {
     "data": {
      "text/plain": [
       "(90994433, 27)"
      ]
     },
     "execution_count": 27,
     "metadata": {},
     "output_type": "execute_result"
    }
   ],
   "source": [
    "non_cpfp_txs_df.shape"
   ]
  },
  {
   "cell_type": "code",
   "execution_count": 28,
   "id": "postal-tomorrow",
   "metadata": {},
   "outputs": [
    {
     "data": {
      "text/plain": [
       "False    90994433\n",
       "True     21494621\n",
       "Name: is_cpfp, dtype: int64"
      ]
     },
     "execution_count": 28,
     "metadata": {},
     "output_type": "execute_result"
    }
   ],
   "source": [
    "txs_df.query('not is_coinbase').is_cpfp.value_counts()"
   ]
  },
  {
   "cell_type": "markdown",
   "id": "psychological-village",
   "metadata": {},
   "source": [
    "## Computing SPPE values"
   ]
  },
  {
   "cell_type": "code",
   "execution_count": 29,
   "id": "spectacular-intent",
   "metadata": {},
   "outputs": [
    {
     "name": "stdout",
     "output_type": "stream",
     "text": [
      "Computing tx_position_observed\n"
     ]
    },
    {
     "name": "stderr",
     "output_type": "stream",
     "text": [
      "/home/johnme/anaconda3/lib/python3.7/site-packages/pandas/core/indexing.py:1667: SettingWithCopyWarning: \n",
      "A value is trying to be set on a copy of a slice from a DataFrame.\n",
      "Try using .loc[row_indexer,col_indexer] = value instead\n",
      "\n",
      "See the caveats in the documentation: https://pandas.pydata.org/pandas-docs/stable/user_guide/indexing.html#returning-a-view-versus-a-copy\n",
      "  self.obj[key] = value\n"
     ]
    },
    {
     "name": "stdout",
     "output_type": "stream",
     "text": [
      "Computing tx_position_predicted\n",
      "Computing rank_percentile_observed\n",
      "Computing rank_percentile_predicted\n"
     ]
    }
   ],
   "source": [
    "print('Computing tx_position_observed')\n",
    "non_cpfp_txs_df.loc[:, 'tx_position_observed'] = (non_cpfp_txs_df.groupby(\"block_height\")['tx_position'].rank(method='first', ascending=True).astype(int))\n",
    "\n",
    "print('Computing tx_position_predicted')\n",
    "non_cpfp_txs_df.loc[:, 'tx_position_predicted'] = (non_cpfp_txs_df.groupby(\"block_height\")['cfeerate'].rank(method='first', ascending=False).astype(int))\n",
    "\n",
    "print('Computing rank_percentile_observed')\n",
    "non_cpfp_txs_df.loc[:, 'rank_percentile_observed'] = (non_cpfp_txs_df.groupby(\n",
    "    \"block_height\"\n",
    ")['tx_position_observed'].rank(method='average', ascending=True, pct=True).mul(100).round(0).astype(int))\n",
    "\n",
    "\n",
    "print('Computing rank_percentile_predicted')\n",
    "non_cpfp_txs_df.loc[:, 'rank_percentile_predicted'] = (non_cpfp_txs_df.groupby(\n",
    "    \"block_height\"\n",
    ")['tx_position_predicted'].rank(method='average', ascending=True, pct=True).mul(100).round(0).astype(int))"
   ]
  },
  {
   "cell_type": "code",
   "execution_count": 30,
   "id": "recorded-hampshire",
   "metadata": {},
   "outputs": [],
   "source": [
    "# Computing SPPE\n",
    "non_cpfp_txs_df.loc[:, 'SPPE'] = (non_cpfp_txs_df['rank_percentile_predicted'] - non_cpfp_txs_df['rank_percentile_observed'])"
   ]
  },
  {
   "cell_type": "code",
   "execution_count": 31,
   "id": "electronic-bennett",
   "metadata": {},
   "outputs": [],
   "source": [
    "# Computing PPE\n",
    "non_cpfp_txs_df.loc[:, 'PPE'] = (non_cpfp_txs_df['rank_percentile_predicted'] - non_cpfp_txs_df['rank_percentile_observed']).abs()"
   ]
  },
  {
   "cell_type": "code",
   "execution_count": 32,
   "id": "elegant-capacity",
   "metadata": {},
   "outputs": [
    {
     "data": {
      "text/plain": [
       "Index(['block_height', 'miner', 'txid', 'is_cpfp', 'is_coinbase',\n",
       "       'tx_position', 'vin', 'vout', 'n_vin', 'n_vout', 'hash', 'vsize',\n",
       "       'size', 'fee', 'cfeerate', 'satsize', 'feerate', 'version', 'locktime',\n",
       "       'n_addresses', 'n_spends_from', 'spends_from', 'n_vin_addresses',\n",
       "       'n_vout_addresses', 'vin_addresses', 'vout_addresses', 'n_utxo',\n",
       "       'tx_position_observed', 'tx_position_predicted',\n",
       "       'rank_percentile_observed', 'rank_percentile_predicted', 'SPPE', 'PPE'],\n",
       "      dtype='object')"
      ]
     },
     "execution_count": 32,
     "metadata": {},
     "output_type": "execute_result"
    }
   ],
   "source": [
    "non_cpfp_txs_df.columns"
   ]
  },
  {
   "cell_type": "code",
   "execution_count": 33,
   "id": "racial-defense",
   "metadata": {},
   "outputs": [
    {
     "data": {
      "text/html": [
       "<div>\n",
       "<style scoped>\n",
       "    .dataframe tbody tr th:only-of-type {\n",
       "        vertical-align: middle;\n",
       "    }\n",
       "\n",
       "    .dataframe tbody tr th {\n",
       "        vertical-align: top;\n",
       "    }\n",
       "\n",
       "    .dataframe thead th {\n",
       "        text-align: right;\n",
       "    }\n",
       "</style>\n",
       "<table border=\"1\" class=\"dataframe\">\n",
       "  <thead>\n",
       "    <tr style=\"text-align: right;\">\n",
       "      <th></th>\n",
       "      <th>block_height</th>\n",
       "      <th>miner</th>\n",
       "      <th>txid</th>\n",
       "      <th>is_cpfp</th>\n",
       "      <th>is_coinbase</th>\n",
       "      <th>tx_position</th>\n",
       "      <th>vin</th>\n",
       "      <th>vout</th>\n",
       "      <th>n_vin</th>\n",
       "      <th>n_vout</th>\n",
       "      <th>...</th>\n",
       "      <th>n_vout_addresses</th>\n",
       "      <th>vin_addresses</th>\n",
       "      <th>vout_addresses</th>\n",
       "      <th>n_utxo</th>\n",
       "      <th>tx_position_observed</th>\n",
       "      <th>tx_position_predicted</th>\n",
       "      <th>rank_percentile_observed</th>\n",
       "      <th>rank_percentile_predicted</th>\n",
       "      <th>SPPE</th>\n",
       "      <th>PPE</th>\n",
       "    </tr>\n",
       "    <tr>\n",
       "      <th>time</th>\n",
       "      <th></th>\n",
       "      <th></th>\n",
       "      <th></th>\n",
       "      <th></th>\n",
       "      <th></th>\n",
       "      <th></th>\n",
       "      <th></th>\n",
       "      <th></th>\n",
       "      <th></th>\n",
       "      <th></th>\n",
       "      <th></th>\n",
       "      <th></th>\n",
       "      <th></th>\n",
       "      <th></th>\n",
       "      <th></th>\n",
       "      <th></th>\n",
       "      <th></th>\n",
       "      <th></th>\n",
       "      <th></th>\n",
       "      <th></th>\n",
       "      <th></th>\n",
       "    </tr>\n",
       "  </thead>\n",
       "  <tbody>\n",
       "    <tr>\n",
       "      <th>2020-01-01 00:03:05</th>\n",
       "      <td>610691</td>\n",
       "      <td>Poolin</td>\n",
       "      <td>c425c221200841914c7189d22f21d84616a7809a6aa7a4308a4eab27ae957cbc</td>\n",
       "      <td>False</td>\n",
       "      <td>False</td>\n",
       "      <td>1</td>\n",
       "      <td>1.318</td>\n",
       "      <td>1.31573227</td>\n",
       "      <td>1</td>\n",
       "      <td>2</td>\n",
       "      <td>...</td>\n",
       "      <td>2</td>\n",
       "      <td>[(17z8pewch1CbQvg75uqKP4eo5YQwLapccC, 1.318)]</td>\n",
       "      <td>[(35LN5maPgWjhrKnYcMnwQD5oAoRcdTwNga, 0.5), (1EvL2QhZT9PHvsGaVer9LVkjWrExaGfxpK, 0.81573227)]</td>\n",
       "      <td>1</td>\n",
       "      <td>1</td>\n",
       "      <td>1</td>\n",
       "      <td>0</td>\n",
       "      <td>0</td>\n",
       "      <td>0</td>\n",
       "      <td>0</td>\n",
       "    </tr>\n",
       "  </tbody>\n",
       "</table>\n",
       "<p>1 rows × 33 columns</p>\n",
       "</div>"
      ],
      "text/plain": [
       "                     block_height   miner  \\\n",
       "time                                        \n",
       "2020-01-01 00:03:05        610691  Poolin   \n",
       "\n",
       "                                                                                 txid  \\\n",
       "time                                                                                    \n",
       "2020-01-01 00:03:05  c425c221200841914c7189d22f21d84616a7809a6aa7a4308a4eab27ae957cbc   \n",
       "\n",
       "                     is_cpfp  is_coinbase  tx_position    vin        vout  \\\n",
       "time                                                                        \n",
       "2020-01-01 00:03:05    False        False            1  1.318  1.31573227   \n",
       "\n",
       "                     n_vin  n_vout  ... n_vout_addresses  \\\n",
       "time                                ...                    \n",
       "2020-01-01 00:03:05      1       2  ...                2   \n",
       "\n",
       "                                                     vin_addresses  \\\n",
       "time                                                                 \n",
       "2020-01-01 00:03:05  [(17z8pewch1CbQvg75uqKP4eo5YQwLapccC, 1.318)]   \n",
       "\n",
       "                                                                                                    vout_addresses  \\\n",
       "time                                                                                                                 \n",
       "2020-01-01 00:03:05  [(35LN5maPgWjhrKnYcMnwQD5oAoRcdTwNga, 0.5), (1EvL2QhZT9PHvsGaVer9LVkjWrExaGfxpK, 0.81573227)]   \n",
       "\n",
       "                     n_utxo  tx_position_observed  tx_position_predicted  \\\n",
       "time                                                                       \n",
       "2020-01-01 00:03:05       1                     1                      1   \n",
       "\n",
       "                     rank_percentile_observed  rank_percentile_predicted  \\\n",
       "time                                                                       \n",
       "2020-01-01 00:03:05                         0                          0   \n",
       "\n",
       "                     SPPE  PPE  \n",
       "time                            \n",
       "2020-01-01 00:03:05     0    0  \n",
       "\n",
       "[1 rows x 33 columns]"
      ]
     },
     "execution_count": 33,
     "metadata": {},
     "output_type": "execute_result"
    }
   ],
   "source": [
    "non_cpfp_txs_df.head(1)"
   ]
  },
  {
   "cell_type": "code",
   "execution_count": 34,
   "id": "robust-madison",
   "metadata": {},
   "outputs": [
    {
     "data": {
      "text/plain": [
       "52974"
      ]
     },
     "execution_count": 34,
     "metadata": {},
     "output_type": "execute_result"
    }
   ],
   "source": [
    "non_cpfp_txs_df.block_height.unique().size"
   ]
  },
  {
   "cell_type": "code",
   "execution_count": 35,
   "id": "studied-switzerland",
   "metadata": {},
   "outputs": [
    {
     "data": {
      "text/plain": [
       "count    52974.00000000\n",
       "mean         2.65025145\n",
       "std          2.89348231\n",
       "min          0.00000000\n",
       "1%           0.00000000\n",
       "5%           0.14972141\n",
       "10%          0.31747445\n",
       "20%          0.59906655\n",
       "25%          0.76253307\n",
       "50%          1.77970367\n",
       "75%          3.47666003\n",
       "80%          4.03104358\n",
       "90%          5.95955267\n",
       "95%          8.22438099\n",
       "99%         13.79398372\n",
       "max         40.64459016\n",
       "Name: PPE, dtype: float64"
      ]
     },
     "execution_count": 35,
     "metadata": {},
     "output_type": "execute_result"
    },
    {
     "data": {
      "image/png": "[encoded data removed]",
      "text/plain": [
       "<Figure size 612x324 with 1 Axes>"
      ]
     },
     "metadata": {},
     "output_type": "display_data"
    }
   ],
   "source": [
    "data = non_cpfp_txs_df[['block_height', 'PPE']].groupby('block_height').mean().PPE\n",
    "ax = plot_cdf(data=data, x_label='Position prediction error (PPE)', y_label='CDF', log=False, interval=None,\n",
    "             color=None, ax=None, label=None,\n",
    "             linewidth=None, alpha=1, y_lim=[0, 1], marker=None, markersize=None)\n",
    "ax.xaxis.set_minor_locator(ticker.MultipleLocator(1))\n",
    "ax.yaxis.set_minor_locator(ticker.MultipleLocator(.1))\n",
    "ax.grid(b=True, which='major', linestyle='--')\n",
    "ax.grid(b=True, which='minor', linestyle=':')\n",
    "data.describe(percentiles=percentiles)"
   ]
  },
  {
   "cell_type": "code",
   "execution_count": 36,
   "id": "nuclear-sheriff",
   "metadata": {},
   "outputs": [
    {
     "data": {
      "text/plain": [
       "<matplotlib.legend.Legend at 0x7f5edca8e290>"
      ]
     },
     "execution_count": 36,
     "metadata": {},
     "output_type": "execute_result"
    },
    {
     "data": {
      "image/png": "[encoded data removed]",
      "text/plain": [
       "<Figure size 612x324 with 1 Axes>"
      ]
     },
     "metadata": {},
     "output_type": "display_data"
    }
   ],
   "source": [
    "ax = None\n",
    "linewidth = 7\n",
    "style = ['solid', 'dotted', 'dashed', 'dashdot', 'solid', 'dotted']\n",
    "\n",
    "for miner in top_miners[:6]:\n",
    "    data = non_cpfp_txs_df.query('miner == @miner')[['block_height', 'PPE']].groupby('block_height').mean().PPE\n",
    "    ax = plot_cdf(ax=ax, data=data, x_label='Position prediction error (PPE)', y_label='CDF', log=False, interval=None,\n",
    "                 color=None, label=miner,\n",
    "                 linewidth=linewidth, linestyle='-', alpha=1, \n",
    "                  y_lim=[0, 1], marker=None, markersize=None)\n",
    "    linewidth-=1\n",
    "ax.xaxis.set_minor_locator(ticker.MultipleLocator(1))\n",
    "ax.yaxis.set_minor_locator(ticker.MultipleLocator(.1))\n",
    "ax.grid(b=True, which='major', linestyle='--')\n",
    "ax.grid(b=True, which='minor', linestyle=':')\n",
    "plt.legend()"
   ]
  },
  {
   "cell_type": "code",
   "execution_count": 37,
   "id": "instructional-broadcasting",
   "metadata": {},
   "outputs": [
    {
     "data": {
      "text/plain": [
       "([0, 1, 2, 3, 4, 5, 6, 7, 8, 9, 10, 11, 12, 13, 14],\n",
       " [Text(0, 0, ''),\n",
       "  Text(0, 0, ''),\n",
       "  Text(0, 0, ''),\n",
       "  Text(0, 0, ''),\n",
       "  Text(0, 0, ''),\n",
       "  Text(0, 0, ''),\n",
       "  Text(0, 0, ''),\n",
       "  Text(0, 0, ''),\n",
       "  Text(0, 0, ''),\n",
       "  Text(0, 0, ''),\n",
       "  Text(0, 0, ''),\n",
       "  Text(0, 0, ''),\n",
       "  Text(0, 0, ''),\n",
       "  Text(0, 0, ''),\n",
       "  Text(0, 0, '')])"
      ]
     },
     "execution_count": 37,
     "metadata": {},
     "output_type": "execute_result"
    },
    {
     "data": {
      "image/png": "[encoded data removed]",
      "text/plain": [
       "<Figure size 612x324 with 1 Axes>"
      ]
     },
     "metadata": {},
     "output_type": "display_data"
    }
   ],
   "source": [
    "deviation_perc = 99\n",
    "data = non_cpfp_txs_df.query(f\"SPPE >= {deviation_perc}\")\n",
    "data = (100 * (data[['block_height', 'miner']].drop_duplicates().miner.value_counts(normalize=False)/miners_df.miner.value_counts(normalize=False))).round(2)\n",
    "data = data.loc[top_miners[:15]]\n",
    "fig, ax = plt.subplots(nrows=1, ncols=1)\n",
    "ax.plot(data.index, data, linewidth=2, linestyle=':', marker='o', markersize=8)\n",
    "ax.set_ylabel('% of blocks')\n",
    "ax.yaxis.set_minor_locator(ticker.MultipleLocator(5))\n",
    "ax.set_ylim((0, 50))\n",
    "ax.grid(b=True, which='minor', linestyle=':')\n",
    "plt.xticks(rotation=65, ha=\"center\")"
   ]
  },
  {
   "cell_type": "markdown",
   "id": "piano-length",
   "metadata": {},
   "source": [
    "# Own MPO Wallet analysis"
   ]
  },
  {
   "cell_type": "code",
   "execution_count": 38,
   "id": "recent-electricity",
   "metadata": {},
   "outputs": [
    {
     "data": {
      "application/vnd.jupyter.widget-view+json": {
       "model_id": "ec5e8c15e60046b593241b97daf5dab3",
       "version_major": 2,
       "version_minor": 0
      },
      "text/plain": [
       "  0%|          | 0/31 [00:00<?, ?it/s]"
      ]
     },
     "metadata": {},
     "output_type": "display_data"
    },
    {
     "data": {
      "text/plain": [
       "(414, 2)"
      ]
     },
     "execution_count": 38,
     "metadata": {},
     "output_type": "execute_result"
    }
   ],
   "source": [
    "# Get MPOs wallet addresses\n",
    "mpo_addresses_df = list()\n",
    "for d in tqdm(get_miners_wallets_from_blocks(df=miners_df).items()):\n",
    "    mpo_addresses_df += [{'miner': d[0], 'address': x} for x in d[1]]\n",
    "mpo_addresses_df = pd.DataFrame(mpo_addresses_df)\n",
    "mpo_addresses_df.shape"
   ]
  },
  {
   "cell_type": "code",
   "execution_count": 39,
   "id": "complex-intersection",
   "metadata": {},
   "outputs": [
    {
     "data": {
      "text/html": [
       "<div>\n",
       "<style scoped>\n",
       "    .dataframe tbody tr th:only-of-type {\n",
       "        vertical-align: middle;\n",
       "    }\n",
       "\n",
       "    .dataframe tbody tr th {\n",
       "        vertical-align: top;\n",
       "    }\n",
       "\n",
       "    .dataframe thead th {\n",
       "        text-align: right;\n",
       "    }\n",
       "</style>\n",
       "<table border=\"1\" class=\"dataframe\">\n",
       "  <thead>\n",
       "    <tr style=\"text-align: right;\">\n",
       "      <th></th>\n",
       "      <th>miner</th>\n",
       "      <th>address</th>\n",
       "    </tr>\n",
       "  </thead>\n",
       "  <tbody>\n",
       "    <tr>\n",
       "      <th>0</th>\n",
       "      <td>Poolin</td>\n",
       "      <td>['1NH2b137CM62oJAacCST3VkQMf71E4aS33']</td>\n",
       "    </tr>\n",
       "    <tr>\n",
       "      <th>1</th>\n",
       "      <td>Poolin</td>\n",
       "      <td>['35RtBrgeMj5NKQZUg2mAanrHQmnbaedoDV']</td>\n",
       "    </tr>\n",
       "    <tr>\n",
       "      <th>2</th>\n",
       "      <td>Poolin</td>\n",
       "      <td>['13shcbJ4UfUiK97Mz3ZaU4VYUdHEJonPM3']</td>\n",
       "    </tr>\n",
       "    <tr>\n",
       "      <th>3</th>\n",
       "      <td>Poolin</td>\n",
       "      <td>['1KDf847BWEMwthPHFtvWAfESdQMRnr25f7']</td>\n",
       "    </tr>\n",
       "    <tr>\n",
       "      <th>4</th>\n",
       "      <td>Poolin</td>\n",
       "      <td>['1FPK9iRTEpvN3HU1a9DV8PmkWKmxW1KmEd']</td>\n",
       "    </tr>\n",
       "  </tbody>\n",
       "</table>\n",
       "</div>"
      ],
      "text/plain": [
       "    miner                                 address\n",
       "0  Poolin  ['1NH2b137CM62oJAacCST3VkQMf71E4aS33']\n",
       "1  Poolin  ['35RtBrgeMj5NKQZUg2mAanrHQmnbaedoDV']\n",
       "2  Poolin  ['13shcbJ4UfUiK97Mz3ZaU4VYUdHEJonPM3']\n",
       "3  Poolin  ['1KDf847BWEMwthPHFtvWAfESdQMRnr25f7']\n",
       "4  Poolin  ['1FPK9iRTEpvN3HU1a9DV8PmkWKmxW1KmEd']"
      ]
     },
     "execution_count": 39,
     "metadata": {},
     "output_type": "execute_result"
    }
   ],
   "source": [
    "mpo_addresses_df.head()"
   ]
  },
  {
   "cell_type": "code",
   "execution_count": 40,
   "id": "linear-sugar",
   "metadata": {},
   "outputs": [
    {
     "data": {
      "text/plain": [
       "(366, 2)"
      ]
     },
     "execution_count": 40,
     "metadata": {},
     "output_type": "execute_result"
    }
   ],
   "source": [
    "mpo_addresses_df.query('miner != \"Unknown\"').shape"
   ]
  },
  {
   "cell_type": "code",
   "execution_count": 41,
   "id": "actual-constant",
   "metadata": {},
   "outputs": [
    {
     "data": {
      "text/plain": [
       "(414, 2)"
      ]
     },
     "execution_count": 41,
     "metadata": {},
     "output_type": "execute_result"
    }
   ],
   "source": [
    "mpo_addresses_df.drop_duplicates().shape"
   ]
  },
  {
   "cell_type": "code",
   "execution_count": 42,
   "id": "mechanical-season",
   "metadata": {},
   "outputs": [
    {
     "data": {
      "text/plain": [
       "(array([ 0,  1,  2,  3,  4,  5,  6,  7,  8,  9, 10, 11, 12, 13, 14, 15, 16,\n",
       "        17, 18, 19]),\n",
       " [Text(0, 0, 'F2Pool'),\n",
       "  Text(1, 0, 'Poolin'),\n",
       "  Text(2, 0, 'BTC.com'),\n",
       "  Text(3, 0, 'AntPool'),\n",
       "  Text(4, 0, 'Huobi'),\n",
       "  Text(5, 0, 'ViaBTC'),\n",
       "  Text(6, 0, '1THash & 58COIN'),\n",
       "  Text(7, 0, 'Okex'),\n",
       "  Text(8, 0, 'Binance Pool'),\n",
       "  Text(9, 0, 'SlushPool'),\n",
       "  Text(10, 0, 'Lubian.com'),\n",
       "  Text(11, 0, 'BTC.TOP'),\n",
       "  Text(12, 0, 'NovaBlock'),\n",
       "  Text(13, 0, 'BytePool'),\n",
       "  Text(14, 0, 'SpiderPool'),\n",
       "  Text(15, 0, 'BitFury'),\n",
       "  Text(16, 0, 'E2M & BTC.TOP'),\n",
       "  Text(17, 0, 'BitDeer'),\n",
       "  Text(18, 0, 'Buffett'),\n",
       "  Text(19, 0, 'Bitcoin.com')])"
      ]
     },
     "execution_count": 42,
     "metadata": {},
     "output_type": "execute_result"
    },
    {
     "data": {
      "image/png": "[encoded data removed]",
      "text/plain": [
       "<Figure size 612x324 with 1 Axes>"
      ]
     },
     "metadata": {},
     "output_type": "display_data"
    }
   ],
   "source": [
    "data = mpo_addresses_df.query('miner != \"Unknown\"')\n",
    "top_miners_ = [miner for miner in top_miners if miner != 'Unknown']\n",
    "ax = data.miner.value_counts(normalize=False).loc[top_miners_[:20]].plot.bar()\n",
    "autolabel(ax.patches, precision=0)\n",
    "ax.set_ylabel('Number of wallet addresses')\n",
    "ax.set_yscale('log')\n",
    "ax.set_ylim((0.9, 100))\n",
    "plt.xticks(rotation=80)"
   ]
  },
  {
   "cell_type": "code",
   "execution_count": 43,
   "id": "available-investment",
   "metadata": {},
   "outputs": [
    {
     "data": {
      "text/html": [
       "<div>\n",
       "<style scoped>\n",
       "    .dataframe tbody tr th:only-of-type {\n",
       "        vertical-align: middle;\n",
       "    }\n",
       "\n",
       "    .dataframe tbody tr th {\n",
       "        vertical-align: top;\n",
       "    }\n",
       "\n",
       "    .dataframe thead th {\n",
       "        text-align: right;\n",
       "    }\n",
       "</style>\n",
       "<table border=\"1\" class=\"dataframe\">\n",
       "  <thead>\n",
       "    <tr style=\"text-align: right;\">\n",
       "      <th></th>\n",
       "      <th>miner</th>\n",
       "      <th>address</th>\n",
       "    </tr>\n",
       "  </thead>\n",
       "  <tbody>\n",
       "    <tr>\n",
       "      <th>407</th>\n",
       "      <td>BitDeer</td>\n",
       "      <td>['bc1qjl8uwezzlech723lpnyuza0h2cdkvxvh54v3dn']</td>\n",
       "    </tr>\n",
       "  </tbody>\n",
       "</table>\n",
       "</div>"
      ],
      "text/plain": [
       "       miner                                         address\n",
       "407  BitDeer  ['bc1qjl8uwezzlech723lpnyuza0h2cdkvxvh54v3dn']"
      ]
     },
     "execution_count": 43,
     "metadata": {},
     "output_type": "execute_result"
    }
   ],
   "source": [
    "mpo_addresses_df.query('miner == \"BitDeer\"')"
   ]
  },
  {
   "cell_type": "code",
   "execution_count": 44,
   "id": "naked-variable",
   "metadata": {},
   "outputs": [
    {
     "data": {
      "text/html": [
       "<div>\n",
       "<style scoped>\n",
       "    .dataframe tbody tr th:only-of-type {\n",
       "        vertical-align: middle;\n",
       "    }\n",
       "\n",
       "    .dataframe tbody tr th {\n",
       "        vertical-align: top;\n",
       "    }\n",
       "\n",
       "    .dataframe thead th {\n",
       "        text-align: right;\n",
       "    }\n",
       "</style>\n",
       "<table border=\"1\" class=\"dataframe\">\n",
       "  <thead>\n",
       "    <tr style=\"text-align: right;\">\n",
       "      <th></th>\n",
       "      <th>miner</th>\n",
       "      <th>address</th>\n",
       "    </tr>\n",
       "  </thead>\n",
       "  <tbody>\n",
       "    <tr>\n",
       "      <th>398</th>\n",
       "      <td>Buffett</td>\n",
       "      <td>['34Jpa4Eu3ApoPVUKNTN2WeuXVVq1jzxgPi']</td>\n",
       "    </tr>\n",
       "  </tbody>\n",
       "</table>\n",
       "</div>"
      ],
      "text/plain": [
       "       miner                                 address\n",
       "398  Buffett  ['34Jpa4Eu3ApoPVUKNTN2WeuXVVq1jzxgPi']"
      ]
     },
     "execution_count": 44,
     "metadata": {},
     "output_type": "execute_result"
    }
   ],
   "source": [
    "mpo_addresses_df.query('miner == \"Buffett\"')"
   ]
  },
  {
   "cell_type": "code",
   "execution_count": 45,
   "id": "asian-convert",
   "metadata": {},
   "outputs": [
    {
     "data": {
      "text/plain": [
       "363"
      ]
     },
     "execution_count": 45,
     "metadata": {},
     "output_type": "execute_result"
    }
   ],
   "source": [
    "mpo_addresses = set(mpo_addresses_df.query('miner != \"Unknown\"').address.unique().tolist())\n",
    "len(mpo_addresses)"
   ]
  },
  {
   "cell_type": "code",
   "execution_count": 46,
   "id": "innocent-pastor",
   "metadata": {},
   "outputs": [],
   "source": [
    "def get_matrix_addresses(mpo_addresses_df, addresses, miners):\n",
    "    matrix_dict = dict()\n",
    "    for miner_a in miners:\n",
    "        matrix_dict[miner_a] = {}\n",
    "        for miner_b in miners:\n",
    "            matrix_dict[miner_a][miner_b] = 0\n",
    "    for address in tqdm(addresses):\n",
    "        pairs_ = itertools.combinations(mpo_addresses_df.query('address == @address').miner, 2)\n",
    "        for pair_ in pairs_:\n",
    "            matrix_dict[pair_[0]][pair_[1]] += 1\n",
    "            matrix_dict[pair_[1]][pair_[0]] += 1\n",
    "    return pd.DataFrame(matrix_dict)"
   ]
  },
  {
   "cell_type": "code",
   "execution_count": 47,
   "id": "little-artist",
   "metadata": {},
   "outputs": [
    {
     "data": {
      "application/vnd.jupyter.widget-view+json": {
       "model_id": "7add5807889b4e2bbbda7f9b6ab9f93a",
       "version_major": 2,
       "version_minor": 0
      },
      "text/plain": [
       "  0%|          | 0/402 [00:00<?, ?it/s]"
      ]
     },
     "metadata": {},
     "output_type": "display_data"
    }
   ],
   "source": [
    "addresses = mpo_addresses_df.address.unique()\n",
    "miners = miners_df.miner.unique()\n",
    "matrix_df = get_matrix_addresses(mpo_addresses_df, addresses, miners)"
   ]
  },
  {
   "cell_type": "code",
   "execution_count": 48,
   "id": "level-feature",
   "metadata": {},
   "outputs": [
    {
     "data": {
      "image/png": "[encoded data removed]",
      "text/plain": [
       "<Figure size 576x576 with 1 Axes>"
      ]
     },
     "metadata": {},
     "output_type": "display_data"
    }
   ],
   "source": [
    "fig, ax = plt.subplots(figsize=(8, 8))\n",
    "sns.heatmap(matrix_df[matrix_df != 0].drop(columns='Unknown', index='Unknown').dropna(axis=1, how='all').dropna(axis=0, how='all').fillna(0), \n",
    "            ax=ax, cmap=\"Blues\", annot=True, cbar=False, linewidths=.5, square=True,\n",
    "            fmt='g', vmin=0, vmax=1, annot_kws={\"size\": 15}, cbar_kws={\"shrink\": .5})\n",
    "\n",
    "ax.tick_params(axis='x', labelrotation=90, labeltop=True, top=True)\n",
    "ax.tick_params(axis='y', labelrotation=0, labelright=True, right=True)"
   ]
  },
  {
   "cell_type": "code",
   "execution_count": 49,
   "id": "macro-latest",
   "metadata": {},
   "outputs": [],
   "source": [
    "excluding_miners = ['Unknown', 'BitDeer', 'TMSPool', 'Buffett']\n",
    "addresses_dict = mpo_addresses_df.query('miner not in @excluding_miners').set_index('address').to_dict()['miner']"
   ]
  },
  {
   "cell_type": "code",
   "execution_count": 50,
   "id": "personalized-arthur",
   "metadata": {},
   "outputs": [
    {
     "data": {
      "text/plain": [
       "(90994433, 27)"
      ]
     },
     "execution_count": 50,
     "metadata": {},
     "output_type": "execute_result"
    }
   ],
   "source": [
    "txs_df.query('not is_cpfp and not is_coinbase').shape"
   ]
  }
 ],
 "metadata": {
  "kernelspec": {
   "display_name": "Python 3 (ipykernel)",
   "language": "python",
   "name": "python3"
  },
  "language_info": {
   "codemirror_mode": {
    "name": "ipython",
    "version": 3
   },
   "file_extension": ".py",
   "mimetype": "text/x-python",
   "name": "python",
   "nbconvert_exporter": "python",
   "pygments_lexer": "ipython3",
   "version": "3.7.11"
  }
 },
 "nbformat": 4,
 "nbformat_minor": 5
}
